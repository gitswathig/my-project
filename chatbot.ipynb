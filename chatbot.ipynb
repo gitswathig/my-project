{
 "cells": [
  {
   "cell_type": "code",
   "execution_count": null,
   "id": "cbc4111b",
   "metadata": {},
   "outputs": [
    {
     "name": "stdout",
     "output_type": "stream",
     "text": [
      "Greetings! What's on your mind?\n"
     ]
    }
   ],
   "source": [
    "import random\n",
    "\n",
    "class Chatbot:\n",
    "    def __init__(self):\n",
    "        self.greetings = [\"Hello! How can I assist you today?\", \"Hi there! What can I do for you?\", \"Greetings! What's on your mind?\"]\n",
    "        self.farewells = [\"Goodbye! Have a great day!\", \"Farewell! Come back anytime.\", \"See you later!\"]\n",
    "        self.questions = [\n",
    "            \"What is your name?\",\n",
    "            \"How can I assist you today?\",\n",
    "            \"Do you have any specific questions?\",\n",
    "            \"Tell me something interesting about yourself.\",\n",
    "            \"Is there anything else I can help with?\"\n",
    "        ]\n",
    "        self.informative_responses = [\n",
    "            \"That's interesting! Did you know that...\",\n",
    "            \"I have some information related to that. Would you like to hear it?\",\n",
    "            \"I can provide more details on that if you're interested.\"\n",
    "        ]\n",
    "        self.humorous_responses = [\n",
    "            \"Haha, good one! By the way...\",\n",
    "            \"You've got a great sense of humor! Here's something amusing...\",\n",
    "            \"Let me lighten the mood with a joke: Why did the chatbot go to therapy? To improve its AI-llignment!\"\n",
    "        ]\n",
    "\n",
    "    def greet_user(self):\n",
    "        print(random.choice(self.greetings))\n",
    "\n",
    "    def ask_question(self, question):\n",
    "        user_response = input(question + \" \")\n",
    "        self.respond_to_user_input(user_response)\n",
    "\n",
    "    def respond_to_user_input(self, user_input):\n",
    "        if any(word in user_input.lower() for word in [\"bye\", \"exit\", \"quit\"]):\n",
    "            print(random.choice(self.farewells))\n",
    "            exit()\n",
    "        elif any(word in user_input.lower() for word in [\"who\", \"what\", \"where\", \"when\", \"why\", \"how\"]):\n",
    "            print(random.choice(self.informative_responses))\n",
    "        elif \"?\" in user_input:\n",
    "            print(\"Interesting question! I'll have to think about that.\")\n",
    "        else:\n",
    "            print(random.choice(self.humorous_responses))\n",
    "\n",
    "    def handle_errors(self):\n",
    "        print(\"Sorry, I didn't understand that. Can you please rephrase?\")\n",
    "\n",
    "    def start_conversation(self):\n",
    "        self.greet_user()\n",
    "        try:\n",
    "            while True:\n",
    "                random_question = random.choice(self.questions)\n",
    "                self.ask_question(random_question)\n",
    "        except KeyboardInterrupt:\n",
    "            print(\"\\nUser interrupted the conversation. Exiting.\")\n",
    "        except Exception as e:\n",
    "            print(f\"An error occurred: {e}\")\n",
    "            self.handle_errors()\n",
    "\n",
    "if __name__ == \"__main__\":\n",
    "    chatbot = Chatbot()\n",
    "    chatbot.start_conversation()\n"
   ]
  },
  {
   "cell_type": "code",
   "execution_count": null,
   "id": "bcb0eb1c",
   "metadata": {},
   "outputs": [],
   "source": []
  }
 ],
 "metadata": {
  "kernelspec": {
   "display_name": "Python 3 (ipykernel)",
   "language": "python",
   "name": "python3"
  },
  "language_info": {
   "codemirror_mode": {
    "name": "ipython",
    "version": 3
   },
   "file_extension": ".py",
   "mimetype": "text/x-python",
   "name": "python",
   "nbconvert_exporter": "python",
   "pygments_lexer": "ipython3",
   "version": "3.9.13"
  }
 },
 "nbformat": 4,
 "nbformat_minor": 5
}
